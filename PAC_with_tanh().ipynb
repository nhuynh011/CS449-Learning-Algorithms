{
  "nbformat": 4,
  "nbformat_minor": 0,
  "metadata": {
    "colab": {
      "provenance": []
    },
    "kernelspec": {
      "name": "python3",
      "display_name": "Python 3"
    },
    "language_info": {
      "name": "python"
    }
  },
  "cells": [
    {
      "cell_type": "markdown",
      "source": [
        "Design a Boolean classifier (outputs +1/-1) which is (approximately) accurate on the training set. This means that the total number of misclassifications that the classifier makes on the training set should be (near) zero. Use a classifier that is a neural network with one output and one layer of hidden units."
      ],
      "metadata": {
        "id": "GHNKc2lm8tcp"
      }
    },
    {
      "cell_type": "code",
      "execution_count": 66,
      "metadata": {
        "id": "4hd4slqF6aDo",
        "colab": {
          "base_uri": "https://localhost:8080/"
        },
        "outputId": "f3279ac3-954a-4f33-cf34-c2a213c124ec"
      },
      "outputs": [
        {
          "output_type": "stream",
          "name": "stdout",
          "text": [
            "(900, 1000) (1000, 500)\n"
          ]
        }
      ],
      "source": [
        "from os import error\n",
        "import math\n",
        "import numpy as np\n",
        "from sklearn.preprocessing import normalize\n",
        "# Load data\n",
        "x = np.genfromtxt('./a2-train-data.txt', delimiter=' ', dtype=np.float128)\n",
        "y = np.genfromtxt('./a2-train-label.txt', delimiter=' ', dtype=np.float128)\n",
        "\n",
        "rows, cols = x.shape\n",
        "x = x/np.max(x)\n",
        "\n",
        "# Number of hidden units:\n",
        "units = 500\n",
        "\n",
        "# Xavier init bounds:\n",
        "xg = 1/math.sqrt(cols+units)\n",
        "xg2 = 1/math.sqrt(units+1)\n",
        "\n",
        "# Draw weights randomly from Unif: (100 units in my hidden layer, 1000 weights for each unit)\n",
        "w = np.zeros((units, cols))\n",
        "for i in range(units):\n",
        "  w[i] = np.random.uniform(-1*xg, xg, (cols)) # each row is different neuron weight\n",
        "# Transpose so it's 1000 by units\n",
        "w = w.reshape((cols, units))\n",
        "\n",
        "wend = np.zeros((units))\n",
        "for i in range(units):\n",
        "  wend[i] = np.random.uniform(-1*xg2, xg2)\n",
        "\n",
        "# Training response vector:\n",
        "yhat = np.zeros((rows))\n",
        "\n",
        "# Learning rate\n",
        "c = 0.001\n",
        "\n",
        "# Acc\n",
        "acc = 0.95\n",
        "\n",
        "print(x.shape, w.shape)"
      ]
    },
    {
      "cell_type": "markdown",
      "source": [
        "Functions"
      ],
      "metadata": {
        "id": "NfVpK5keQiTF"
      }
    },
    {
      "cell_type": "code",
      "source": [
        "def tanhP(x):\n",
        "  return 1-np.tanh(x)**2\n",
        "def loss(y, yhat):\n",
        "  return (1/2)*(y-yhat)**2\n",
        "def sign(y):\n",
        "  return 1 if y > 0 else -1"
      ],
      "metadata": {
        "id": "rSpiZtLALVLM"
      },
      "execution_count": 67,
      "outputs": []
    },
    {
      "cell_type": "markdown",
      "source": [
        "Forward function (finish first before running back)"
      ],
      "metadata": {
        "id": "OpryR1EorjAX"
      }
    },
    {
      "cell_type": "code",
      "source": [
        "# Calculate yhat, forward pass\n",
        "def forwpass(training, weights):\n",
        "  return np.tanh(np.matmul(training, weights)) #also activated\n"
      ],
      "metadata": {
        "id": "x6bi-4bSrh-4"
      },
      "execution_count": 68,
      "outputs": []
    },
    {
      "cell_type": "markdown",
      "source": [
        "Backwards function for gradient\n",
        "update w like so <- w- learnRate * slope of error (dE(w)/dw)"
      ],
      "metadata": {
        "id": "n4JmA1PRrmp-"
      }
    },
    {
      "cell_type": "code",
      "source": [
        "def backprop(weights, finalweights, y, yhat, learningRate, inputs):\n",
        "  dFinal = -1*(y-yhat)*(1-yhat**2)\n",
        "  dHidden = dFinal* finalweights*(1-(forwpass(inputs, weights))**2) #500\n",
        "  #forwp is a horizontal vector\n",
        "  # weight updates:\n",
        "  dHidden = dHidden.reshape((1, units))\n",
        "  finalweights -= learningRate*dFinal* forwpass(inputs, weights)\n",
        "  weights -= learningRate*np.dot(inputs[:,np.newaxis], dHidden)"
      ],
      "metadata": {
        "id": "IUCXXFhArlqX"
      },
      "execution_count": 69,
      "outputs": []
    },
    {
      "cell_type": "markdown",
      "source": [
        "\n",
        "Learning loop"
      ],
      "metadata": {
        "id": "3zzmJ-0LJbXb"
      }
    },
    {
      "cell_type": "code",
      "source": [
        "while True:\n",
        "  error = 0\n",
        "  for i in range(rows):\n",
        "    temp = forwpass(x[i], w)\n",
        "    yhat[i] = forwpass(temp, wend)\n",
        "    error += loss(y[i], yhat[i])\n",
        "    backprop(w, wend, y[i], yhat[i], c, x[i])\n",
        "  print(\"Error %:\", error/rows)\n",
        "  if error/rows < 1-acc:\n",
        "    break"
      ],
      "metadata": {
        "id": "K8P-v9AGrl3P",
        "colab": {
          "base_uri": "https://localhost:8080/"
        },
        "outputId": "5a16a45c-1bf3-46ca-ff66-1159e901516e"
      },
      "execution_count": 70,
      "outputs": [
        {
          "output_type": "stream",
          "name": "stdout",
          "text": [
            "Error %: 0.49826270185299176995\n",
            "Error %: 0.47215333341879836933\n",
            "Error %: 0.44421517237077491272\n",
            "Error %: 0.41192711498970721254\n",
            "Error %: 0.37470908781644361355\n",
            "Error %: 0.33405107735474178854\n",
            "Error %: 0.2928780144574375839\n",
            "Error %: 0.25414425110121557645\n",
            "Error %: 0.21968234006649481181\n",
            "Error %: 0.19002783018112655187\n",
            "Error %: 0.16488994979195090065\n",
            "Error %: 0.14365635497174237605\n",
            "Error %: 0.12568373454600483994\n",
            "Error %: 0.110408724949516818746\n",
            "Error %: 0.09736899540649979087\n",
            "Error %: 0.086192478840624911664\n",
            "Error %: 0.076579963215015240814\n",
            "Error %: 0.06828894518619510838\n",
            "Error %: 0.061120244610845335236\n",
            "Error %: 0.054907469373431773982\n",
            "Error %: 0.04950930734819099615\n"
          ]
        }
      ]
    },
    {
      "cell_type": "code",
      "source": [
        "for i in range(yhat.shape [0]):\n",
        "  yhat[i] = sign(yhat[i])\n",
        "\n",
        "misclassifications = 0\n",
        "for i in range(y.shape [0]):\n",
        "  misclassifications += 1 if y[i] != yhat[i] else 0\n",
        "\n",
        "print(\"Misclassifications:\", misclassifications)"
      ],
      "metadata": {
        "colab": {
          "base_uri": "https://localhost:8080/"
        },
        "id": "zGGtfVG794Yc",
        "outputId": "a06e6814-298d-46e9-e565-ddd2f97cba65"
      },
      "execution_count": 71,
      "outputs": [
        {
          "output_type": "stream",
          "name": "stdout",
          "text": [
            "Misclassifications: 1\n"
          ]
        }
      ]
    },
    {
      "cell_type": "markdown",
      "source": [
        "Apply on unseen data"
      ],
      "metadata": {
        "id": "7BJ_r2_SgRLR"
      }
    },
    {
      "cell_type": "code",
      "source": [
        "xtest = np.genfromtxt('/content/a2-test-data.txt', delimiter=' ')\n",
        "ytest = np.genfromtxt('/content/a2-test-label.txt', delimiter=', ', deletechars = \"[]\")\n",
        "# I can't gen from txt properly for the first and last elements\n",
        "ytest[0] = 1\n",
        "ytest[-1] = 1\n",
        "# Apply:\n",
        "xtest = xtest/np.max(x)\n",
        "# use sign function and then compare misclassifications\n",
        "temp3 = forwpass(xtest, w)\n",
        "ytesthat = forwpass(temp3, wend)\n",
        "for i in range(ytesthat.shape [0]):\n",
        "  ytesthat[i] = sign(ytesthat[i])\n",
        "\n",
        "misclassifications = 0\n",
        "for i in range(ytest.shape [0]):\n",
        "  misclassifications += 1 if ytest[i] != ytesthat[i] else 0\n",
        "\n",
        "print(\"Misclassifications:\", misclassifications)\n",
        "print(ytesthat)\n",
        "print(ytest)"
      ],
      "metadata": {
        "id": "69IN2vPzgTDq",
        "colab": {
          "base_uri": "https://localhost:8080/"
        },
        "outputId": "7a45ac2d-608c-4eaf-827d-4679ce74aa0e"
      },
      "execution_count": 79,
      "outputs": [
        {
          "output_type": "stream",
          "name": "stdout",
          "text": [
            "Misclassifications: 22\n",
            "[ 1. -1. -1.  1.  1.  1.  1. -1. -1. -1.  1.  1. -1.  1. -1.  1. -1. -1.\n",
            " -1. -1.  1. -1. -1.  1.  1.  1. -1. -1. -1. -1. -1. -1.  1. -1.  1. -1.\n",
            "  1.  1.  1.  1. -1. -1.  1.  1.  1. -1.  1.  1.  1.  1.  1.  1.  1.  1.\n",
            " -1.  1.  1.  1.  1. -1.  1. -1.  1. -1. -1. -1. -1. -1. -1.  1.  1.  1.\n",
            "  1. -1. -1.  1.  1. -1.  1.  1. -1. -1.  1. -1.  1.  1.  1. -1.  1.  1.\n",
            " -1. -1.  1.  1.  1. -1.  1. -1. -1.  1.]\n",
            "[ 1.  1. -1.  1. -1.  1.  1. -1.  1. -1.  1.  1. -1.  1. -1.  1.  1. -1.\n",
            " -1.  1.  1. -1. -1.  1.  1. -1. -1. -1.  1. -1. -1. -1.  1. -1.  1.  1.\n",
            "  1. -1.  1.  1. -1.  1. -1.  1.  1. -1.  1.  1.  1.  1. -1. -1.  1.  1.\n",
            " -1.  1.  1.  1. -1. -1.  1. -1. -1. -1. -1. -1.  1. -1.  1.  1.  1.  1.\n",
            "  1. -1. -1. -1.  1. -1. -1.  1. -1. -1.  1.  1.  1. -1.  1. -1.  1.  1.\n",
            " -1. -1.  1. -1.  1. -1.  1. -1. -1.  1.]\n"
          ]
        }
      ]
    },
    {
      "cell_type": "code",
      "source": [
        "# Write out to txt\n",
        "#write 500\n",
        "# write wend\n",
        "wend = wend.reshape((units))\n",
        "np.savetxt('wend.txt', wend, delimiter=' ')\n",
        "# write w\n",
        "w = w.reshape((units, cols))\n",
        "np.savetxt('w.txt', w, delimiter=' ')"
      ],
      "metadata": {
        "colab": {
          "base_uri": "https://localhost:8080/"
        },
        "id": "TeyHVXWyELXF",
        "outputId": "fb28afb1-b9f8-41ea-a185-7e488ed55487"
      },
      "execution_count": 84,
      "outputs": [
        {
          "output_type": "stream",
          "name": "stdout",
          "text": [
            "(500,)\n"
          ]
        }
      ]
    }
  ]
}