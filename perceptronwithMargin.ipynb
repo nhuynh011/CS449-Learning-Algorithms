{
  "nbformat": 4,
  "nbformat_minor": 0,
  "metadata": {
    "colab": {
      "provenance": []
    },
    "kernelspec": {
      "name": "python3",
      "display_name": "Python 3"
    },
    "language_info": {
      "name": "python"
    }
  },
  "cells": [
    {
      "cell_type": "markdown",
      "source": [
        "# Perceptron\n",
        "With margin calculation and back and forward prop"
      ],
      "metadata": {
        "id": "8hP6sbkpqB4d"
      }
    },
    {
      "cell_type": "code",
      "execution_count": null,
      "metadata": {
        "id": "UFn9Fhjzp-IV"
      },
      "outputs": [],
      "source": [
        "import numpy as np\n",
        "from sklearn.preprocessing import normalize\n",
        "# Load data\n",
        "x = np.genfromtxt('/content/train-a1-449.txt', dtype = str, delimiter=' ')\n",
        "\n",
        "rows, cols = x.shape\n",
        "\n",
        "# Label vector:\n",
        "y = np.zeros(rows)\n",
        "for i in range(rows):\n",
        "    if x[i, 1024] == 'Y':\n",
        "        y[i] = 1\n",
        "\n",
        "# Remove y from x\n",
        "x = np.delete(x, -1, axis=1)\n",
        "\n",
        "# Normalize x\n",
        "x = normalize(x, norm = \"l2\")\n",
        "rows, cols = x.shape\n",
        "\n",
        "# Weight vector\n",
        "w = [0]*1024\n",
        "\n",
        "# Predictor vector\n",
        "yhat = np.zeros(cols)\n",
        "\n",
        "# Learning Rate\n",
        "c = 0.2 #for now\n",
        "\n",
        "# Error\n",
        "err = 0"
      ]
    },
    {
      "cell_type": "markdown",
      "source": [
        "Forward pass function"
      ],
      "metadata": {
        "id": "P9ogKMhRqOME"
      }
    },
    {
      "cell_type": "code",
      "source": [
        "# Calculate yhat, forward pass\n",
        "def forwpass(err):\n",
        "  for i in range(rows):\n",
        "      tempw = np.dot(w, x[i])\n",
        "      # Activate\n",
        "      yhat[i] = np.tanh(tempw)\n",
        "\n",
        "      # Calculate total error\n",
        "      err += (yhat[i] - y[i])**2\n",
        "      return err"
      ],
      "metadata": {
        "id": "39ptiV_uqTJN"
      },
      "execution_count": null,
      "outputs": []
    },
    {
      "cell_type": "markdown",
      "source": [
        "Backwards propagation\n",
        "Margin = min[|(w*/x)|/||x||]"
      ],
      "metadata": {
        "id": "-xT3gwUKqWUQ"
      }
    },
    {
      "cell_type": "code",
      "source": [
        "# Back propagation:\n",
        "m = np.zeros((1024))\n",
        "def backprop():\n",
        "  for i in range(rows):\n",
        "      tempe = 1 - (np.tanh(yhat[i]))**2\n",
        "      w1 = w\n",
        "      for j in range(cols-1):\n",
        "          w[j+1] = w[j] - c*(1-(np.tanh(w[j])**2))\n",
        "      m[i] = (abs(np.dot((w/np.linalg.norm(w)), x[i])))/np.linalg.norm(x[i])\n",
        "  return min(m)\n"
      ],
      "metadata": {
        "id": "q9hMgZ0SqVuG"
      },
      "execution_count": null,
      "outputs": []
    },
    {
      "cell_type": "markdown",
      "source": [
        "Apply"
      ],
      "metadata": {
        "id": "IXQLFyybqgIe"
      }
    },
    {
      "cell_type": "code",
      "source": [
        "# Apply and find margin\n",
        "err = 0\n",
        "while True:\n",
        "  new_err = forwpass(err)\n",
        "  err = new_err\n",
        "  print(backprop())\n",
        "  if err<(0.05*cols):\n",
        "    break\n",
        "print(w)"
      ],
      "metadata": {
        "id": "MvVsFSaxqkcu"
      },
      "execution_count": null,
      "outputs": []
    },
    {
      "cell_type": "code",
      "source": [
        "for i in range(rows):\n",
        "  tempw = np.dot(w, x[i])\n",
        "  # Activate\n",
        "  yhat[i] = np.tanh(tempw)\n",
        "  # Calculate Error\n",
        "  err += (yhat[i] - y[i])**2\n",
        "print(err)\n"
      ],
      "metadata": {
        "colab": {
          "base_uri": "https://localhost:8080/"
        },
        "id": "ZM3LhHzu1Psx",
        "outputId": "1ad4953b-8afe-41e8-b164-fb114b231d90"
      },
      "execution_count": null,
      "outputs": [
        {
          "output_type": "stream",
          "name": "stdout",
          "text": [
            "436.01058327752224\n"
          ]
        }
      ]
    }
  ]
}
